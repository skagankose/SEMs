{
 "cells": [
  {
   "cell_type": "code",
   "execution_count": 107,
   "metadata": {
    "collapsed": false
   },
   "outputs": [
    {
     "name": "stdout",
     "output_type": "stream",
     "text": [
      "The autoreload extension is already loaded. To reload it, use:\n",
      "  %reload_ext autoreload\n"
     ]
    }
   ],
   "source": [
    "%load_ext autoreload\n",
    "%autoreload 2"
   ]
  },
  {
   "cell_type": "code",
   "execution_count": 108,
   "metadata": {
    "collapsed": true
   },
   "outputs": [],
   "source": [
    "import deTwo\n",
    "import pandas as pd\n",
    "import numpy as np\n",
    "import gzip\n",
    "from sklearn import linear_model\n",
    "from IPython.display import display\n",
    "import warnings\n",
    "import random"
   ]
  },
  {
   "cell_type": "code",
   "execution_count": 109,
   "metadata": {
    "collapsed": false
   },
   "outputs": [],
   "source": [
    "warnings.filterwarnings('ignore')"
   ]
  },
  {
   "cell_type": "code",
   "execution_count": 118,
   "metadata": {
    "collapsed": true
   },
   "outputs": [],
   "source": [
    "# Define required variables\n",
    "data_name = 'dataset.gz'\n",
    "key_name = 'keyset.txt'\n",
    "training_length = 800000; test_length = 20000;  \n",
    "min_impression = 100; min_clicks = 1; \n",
    "min_impression_test = 100; min_clicks_test = 1;"
   ]
  },
  {
   "cell_type": "code",
   "execution_count": 75,
   "metadata": {
    "collapsed": false
   },
   "outputs": [],
   "source": [
    "# Read data_name with read_table function\n",
    "dt = pd.read_table(gzip.open(data_name))\n",
    "\n",
    "# Read key_name with read_table function\n",
    "dt_keys = pd.read_csv(key_name)\n",
    "\n",
    "# Rename columns as follows\n",
    "dt.columns = ['day', 'account_id', 'rank', 'keyphrase', 'avg_bid', 'impression', 'clicks']\n",
    "dt_keys.columns = ['keys']\n",
    "\n",
    "# Shuffle the datas\n",
    "dt = dt.iloc[np.random.permutation(len(dt))]"
   ]
  },
  {
   "cell_type": "code",
   "execution_count": 76,
   "metadata": {
    "collapsed": true
   },
   "outputs": [],
   "source": [
    "# Initilize a list to hold all words\n",
    "all_words = list()\n",
    "\n",
    "# Iterate over data_table_keys and ut each word into all_words list\n",
    "for index, row in dt_keys.iterrows(): all_words.append(row['keys'])"
   ]
  },
  {
   "cell_type": "code",
   "execution_count": 111,
   "metadata": {
    "collapsed": false
   },
   "outputs": [],
   "source": [
    "# Find fit a model by using train_model\n",
    "clf, avarage_ctr = deTwo.train_model(dt, all_words, training_length, min_impression, min_clicks)"
   ]
  },
  {
   "cell_type": "code",
   "execution_count": null,
   "metadata": {
    "collapsed": true
   },
   "outputs": [],
   "source": []
  },
  {
   "cell_type": "code",
   "execution_count": null,
   "metadata": {
    "collapsed": true
   },
   "outputs": [],
   "source": []
  },
  {
   "cell_type": "code",
   "execution_count": 119,
   "metadata": {
    "collapsed": false
   },
   "outputs": [],
   "source": [
    "# Variable to choose random ad\n",
    "test_samples_num = 0\n",
    "\n",
    "# Set a random ad index \n",
    "random_index = random.randint(1, test_length/100.0)\n",
    "\n",
    "# Find ad at random_index\n",
    "for index, row in dt.head(test_length).iterrows():\n",
    "    \n",
    "    if row['clicks'] >= min_clicks_test and row['impression'] >= min_impression_test:\n",
    "    \n",
    "        new_keyphrase = row; test_samples_num += 1\n",
    "        \n",
    "        if test_samples_num == random_index: break\n",
    "\n",
    "# Put words of new_keyphrase into list\n",
    "keyphrase_words = new_keyphrase['keyphrase'].split()\n",
    "\n",
    "# Initilize keyphrase_vector for new_keyphrase\n",
    "keyphrase_vector = list()\n",
    "\n",
    "# Iterate over all_words\n",
    "for word in all_words:\n",
    "\n",
    "    # Build keyphrase_vector of new_keyphrase\n",
    "    if word in keyphrase_words: keyphrase_vector += [1]\n",
    "    else: keyphrase_vector += [0]"
   ]
  },
  {
   "cell_type": "code",
   "execution_count": 120,
   "metadata": {
    "collapsed": false
   },
   "outputs": [
    {
     "name": "stdout",
     "output_type": "stream",
     "text": [
      "Predicted CTR: 0.019\n"
     ]
    }
   ],
   "source": [
    "# Predict CTR by using scikit-learn\n",
    "predicted_ctr = clf.predict(keyphrase_vector)[0]\n",
    "print('Predicted CTR: %.3f'% predicted_ctr)"
   ]
  },
  {
   "cell_type": "code",
   "execution_count": 121,
   "metadata": {
    "collapsed": false
   },
   "outputs": [
    {
     "name": "stdout",
     "output_type": "stream",
     "text": [
      "Real CTR: 0.025\n"
     ]
    }
   ],
   "source": [
    "# Calculate real CTR of new_keyphrase\n",
    "real_ctr = float(new_ad['clicks']) / float(new_ad['impression'])\n",
    "print('Real CTR: %.3f'% real_ctr)"
   ]
  },
  {
   "cell_type": "code",
   "execution_count": null,
   "metadata": {
    "collapsed": true
   },
   "outputs": [],
   "source": []
  },
  {
   "cell_type": "code",
   "execution_count": null,
   "metadata": {
    "collapsed": true
   },
   "outputs": [],
   "source": []
  },
  {
   "cell_type": "code",
   "execution_count": 114,
   "metadata": {
    "collapsed": false
   },
   "outputs": [
    {
     "name": "stdout",
     "output_type": "stream",
     "text": [
      "Predicted CTR: 0.027968 - Real CTR: 0.007519 for n: 1\n",
      "Predicted CTR: 0.017300 - Real CTR: 0.012346 for n: 2\n",
      "Predicted CTR: 0.019337 - Real CTR: 0.008000 for n: 3\n",
      "Predicted CTR: 0.011228 - Real CTR: 0.038835 for n: 4\n",
      "Predicted CTR: 0.020314 - Real CTR: 0.018560 for n: 5\n",
      "Predicted CTR: 0.018329 - Real CTR: 0.011429 for n: 6\n",
      "Predicted CTR: 0.009846 - Real CTR: 0.008013 for n: 7\n",
      "Predicted CTR: 0.017598 - Real CTR: 0.004630 for n: 8\n",
      "Predicted CTR: 0.009950 - Real CTR: 0.004556 for n: 9\n",
      "Predicted CTR: 0.009950 - Real CTR: 0.003135 for n: 10\n",
      "Predicted CTR: 0.018975 - Real CTR: 0.004630 for n: 11\n",
      "Predicted CTR: 0.018454 - Real CTR: 0.005566 for n: 12\n",
      "Predicted CTR: 0.018527 - Real CTR: 0.012097 for n: 13\n",
      "Predicted CTR: 0.018292 - Real CTR: 0.008000 for n: 14\n",
      "Predicted CTR: 0.017218 - Real CTR: 0.005319 for n: 15\n",
      "Predicted CTR: 0.020402 - Real CTR: 0.007812 for n: 16\n",
      "Predicted CTR: 0.018622 - Real CTR: 0.005714 for n: 17\n",
      "Predicted CTR: 0.019436 - Real CTR: 0.004878 for n: 18\n",
      "Predicted CTR: 0.009898 - Real CTR: 0.001161 for n: 19\n",
      "Predicted CTR: 0.011689 - Real CTR: 0.016892 for n: 20\n",
      "Predicted CTR: 0.015944 - Real CTR: 0.008696 for n: 21\n",
      "Predicted CTR: 0.020316 - Real CTR: 0.005505 for n: 22\n",
      "Predicted CTR: 0.010257 - Real CTR: 0.002375 for n: 23\n",
      "Predicted CTR: 0.018211 - Real CTR: 0.014235 for n: 24\n",
      "Predicted CTR: 0.018630 - Real CTR: 0.019324 for n: 25\n",
      "Predicted CTR: 0.016153 - Real CTR: 0.002646 for n: 26\n",
      "Predicted CTR: 0.018163 - Real CTR: 0.011583 for n: 27\n",
      "Predicted CTR: 0.021468 - Real CTR: 0.013793 for n: 28\n",
      "Predicted CTR: 0.018990 - Real CTR: 0.003865 for n: 29\n",
      "Predicted CTR: 0.018990 - Real CTR: 0.001805 for n: 30\n",
      "Predicted CTR: 0.019000 - Real CTR: 0.007862 for n: 31\n",
      "Predicted CTR: 0.017633 - Real CTR: 0.016275 for n: 32\n",
      "Predicted CTR: 0.021549 - Real CTR: 0.054455 for n: 33\n",
      "Predicted CTR: 0.018990 - Real CTR: 0.004831 for n: 34\n",
      "Predicted CTR: 0.017649 - Real CTR: 0.003067 for n: 35\n",
      "Predicted CTR: 0.020839 - Real CTR: 0.008547 for n: 36\n",
      "Predicted CTR: 0.014289 - Real CTR: 0.008929 for n: 37\n",
      "Predicted CTR: 0.018512 - Real CTR: 0.008130 for n: 38\n",
      "Predicted CTR: 0.009789 - Real CTR: 0.004335 for n: 39\n",
      "Predicted CTR: 0.016984 - Real CTR: 0.016949 for n: 40\n",
      "Predicted CTR: 0.018259 - Real CTR: 0.006211 for n: 41\n",
      "Predicted CTR: 0.009950 - Real CTR: 0.009934 for n: 42\n",
      "Predicted CTR: 0.011228 - Real CTR: 0.009615 for n: 43\n",
      "Predicted CTR: 0.018015 - Real CTR: 0.013793 for n: 44\n",
      "Predicted CTR: 0.018990 - Real CTR: 0.030812 for n: 45\n",
      "Predicted CTR: 0.017342 - Real CTR: 0.006349 for n: 46\n",
      "Predicted CTR: 0.019332 - Real CTR: 0.009804 for n: 47\n",
      "Predicted CTR: 0.018133 - Real CTR: 0.083969 for n: 48\n",
      "Predicted CTR: 0.020953 - Real CTR: 0.014184 for n: 49\n",
      "Predicted CTR: 0.010257 - Real CTR: 0.001487 for n: 50\n",
      "Predicted CTR: 0.011329 - Real CTR: 0.009547 for n: 51\n",
      "Predicted CTR: 0.026266 - Real CTR: 0.071429 for n: 52\n",
      "Predicted CTR: 0.019820 - Real CTR: 0.104712 for n: 53\n",
      "Predicted CTR: 0.025088 - Real CTR: 0.017123 for n: 54\n",
      "Predicted CTR: 0.019011 - Real CTR: 0.007937 for n: 55\n",
      "Predicted CTR: 0.019820 - Real CTR: 0.096654 for n: 56\n",
      "Predicted CTR: 0.019337 - Real CTR: 0.007843 for n: 57\n",
      "Predicted CTR: 0.015456 - Real CTR: 0.010616 for n: 58\n",
      "Predicted CTR: 0.019304 - Real CTR: 0.007576 for n: 59\n",
      "Predicted CTR: 0.009950 - Real CTR: 0.005923 for n: 60\n",
      "Predicted CTR: 0.019459 - Real CTR: 0.021164 for n: 61\n",
      "Predicted CTR: 0.009264 - Real CTR: 0.008264 for n: 62\n",
      "Predicted CTR: 0.019068 - Real CTR: 0.009346 for n: 63\n",
      "Predicted CTR: 0.017145 - Real CTR: 0.003350 for n: 64\n",
      "Predicted CTR: 0.009950 - Real CTR: 0.011429 for n: 65\n",
      "Predicted CTR: 0.018805 - Real CTR: 0.007874 for n: 66\n",
      "Predicted CTR: 0.018163 - Real CTR: 0.007143 for n: 67\n",
      "Predicted CTR: 0.018067 - Real CTR: 0.009709 for n: 68\n",
      "Predicted CTR: 0.019055 - Real CTR: 0.017123 for n: 69\n",
      "Predicted CTR: 0.032565 - Real CTR: 0.018450 for n: 70\n",
      "Predicted CTR: 0.020486 - Real CTR: 0.003236 for n: 71\n",
      "Predicted CTR: 0.018834 - Real CTR: 0.007042 for n: 72\n",
      "Predicted CTR: 0.018805 - Real CTR: 0.007853 for n: 73\n",
      "Predicted CTR: 0.019035 - Real CTR: 0.070000 for n: 74\n",
      "Predicted CTR: 0.018598 - Real CTR: 0.008715 for n: 75\n",
      "Predicted CTR: 0.009950 - Real CTR: 0.002475 for n: 76\n",
      "Predicted CTR: 0.020984 - Real CTR: 0.036364 for n: 77\n",
      "Predicted CTR: 0.012106 - Real CTR: 0.003610 for n: 78\n",
      "Predicted CTR: 0.009950 - Real CTR: 0.005714 for n: 79\n",
      "Predicted CTR: 0.020144 - Real CTR: 0.005917 for n: 80\n",
      "Predicted CTR: 0.020868 - Real CTR: 0.008929 for n: 81\n",
      "Predicted CTR: 0.020988 - Real CTR: 0.013793 for n: 82\n",
      "Predicted CTR: 0.020380 - Real CTR: 0.004894 for n: 83\n",
      "Predicted CTR: 0.009950 - Real CTR: 0.010000 for n: 84\n",
      "Predicted CTR: 0.015966 - Real CTR: 0.010417 for n: 85\n",
      "Predicted CTR: 0.018862 - Real CTR: 0.008768 for n: 86\n",
      "Predicted CTR: 0.018133 - Real CTR: 0.010638 for n: 87\n",
      "Predicted CTR: 0.018598 - Real CTR: 0.016787 for n: 88\n",
      "Predicted CTR: 0.017355 - Real CTR: 0.001451 for n: 89\n",
      "Predicted CTR: 0.015855 - Real CTR: 0.016949 for n: 90\n",
      "Predicted CTR: 0.020369 - Real CTR: 0.025586 for n: 91\n",
      "Predicted CTR: 0.009789 - Real CTR: 0.017544 for n: 92\n",
      "Predicted CTR: 0.015936 - Real CTR: 0.007018 for n: 93\n",
      "Predicted CTR: 0.018745 - Real CTR: 0.037778 for n: 94\n",
      "Predicted CTR: 0.018805 - Real CTR: 0.009634 for n: 95\n",
      "Predicted CTR: 0.017052 - Real CTR: 0.002677 for n: 96\n",
      "Predicted CTR: 0.023566 - Real CTR: 0.153846 for n: 97\n",
      "Predicted CTR: 0.018739 - Real CTR: 0.030675 for n: 98\n",
      "Predicted CTR: 0.018536 - Real CTR: 0.039370 for n: 99\n",
      "Predicted CTR: 0.009950 - Real CTR: 0.008338 for n: 100\n",
      "Predicted CTR: 0.017530 - Real CTR: 0.009390 for n: 101\n",
      "Predicted CTR: 0.018588 - Real CTR: 0.002564 for n: 102\n",
      "Predicted CTR: 0.015424 - Real CTR: 0.004902 for n: 103\n",
      "Predicted CTR: 0.016647 - Real CTR: 0.005650 for n: 104\n",
      "Predicted CTR: 0.018417 - Real CTR: 0.005291 for n: 105\n",
      "Predicted CTR: 0.016313 - Real CTR: 0.007143 for n: 106\n",
      "Predicted CTR: 0.008962 - Real CTR: 0.019108 for n: 107\n",
      "Predicted CTR: 0.020144 - Real CTR: 0.015000 for n: 108\n",
      "Predicted CTR: 0.018511 - Real CTR: 0.227545 for n: 109\n",
      "Predicted CTR: 0.019354 - Real CTR: 0.019481 for n: 110\n",
      "Predicted CTR: 0.018413 - Real CTR: 0.002320 for n: 111\n",
      "Predicted CTR: 0.017136 - Real CTR: 0.009434 for n: 112\n",
      "Predicted CTR: 0.019247 - Real CTR: 0.016807 for n: 113\n",
      "Predicted CTR: 0.014957 - Real CTR: 0.003663 for n: 114\n",
      "Predicted CTR: 0.025426 - Real CTR: 0.089286 for n: 115\n",
      "Predicted CTR: 0.018655 - Real CTR: 0.027778 for n: 116\n",
      "Predicted CTR: 0.027968 - Real CTR: 0.005437 for n: 117\n",
      "Predicted CTR: 0.018598 - Real CTR: 0.011765 for n: 118\n",
      "Predicted CTR: 0.018834 - Real CTR: 0.009732 for n: 119\n",
      "Predicted CTR: 0.017644 - Real CTR: 0.004619 for n: 120\n",
      "Predicted CTR: 0.019820 - Real CTR: 0.019608 for n: 121\n",
      "Predicted CTR: 0.020380 - Real CTR: 0.006803 for n: 122\n",
      "Predicted CTR: 0.015936 - Real CTR: 0.005102 for n: 123\n",
      "Predicted CTR: 0.022027 - Real CTR: 0.008299 for n: 124\n",
      "Predicted CTR: 0.027078 - Real CTR: 0.053191 for n: 125\n",
      "Predicted CTR: 0.017649 - Real CTR: 0.003215 for n: 126\n",
      "Predicted CTR: 0.019247 - Real CTR: 0.002212 for n: 127\n",
      "Predicted CTR: 0.015892 - Real CTR: 0.008000 for n: 128\n",
      "Predicted CTR: 0.020562 - Real CTR: 0.016694 for n: 129\n",
      "Predicted CTR: 0.018917 - Real CTR: 0.044199 for n: 130\n",
      "Predicted CTR: 0.019320 - Real CTR: 0.003155 for n: 131\n",
      "Predicted CTR: 0.017371 - Real CTR: 0.016043 for n: 132\n",
      "Predicted CTR: 0.016313 - Real CTR: 0.011429 for n: 133\n",
      "Predicted CTR: 0.016798 - Real CTR: 0.029240 for n: 134\n",
      "Predicted CTR: 0.018126 - Real CTR: 0.022124 for n: 135\n",
      "Predicted CTR: 0.016313 - Real CTR: 0.028381 for n: 136\n",
      "Predicted CTR: 0.016180 - Real CTR: 0.007463 for n: 137\n",
      "Predicted CTR: 0.019579 - Real CTR: 0.009009 for n: 138\n",
      "Predicted CTR: 0.017659 - Real CTR: 0.026316 for n: 139\n",
      "Predicted CTR: 0.017086 - Real CTR: 0.005128 for n: 140\n",
      "Predicted CTR: 0.018002 - Real CTR: 0.007937 for n: 141\n",
      "Predicted CTR: 0.023317 - Real CTR: 0.001789 for n: 142\n",
      "Predicted CTR: 0.017819 - Real CTR: 0.006211 for n: 143\n",
      "Predicted CTR: 0.019034 - Real CTR: 0.019481 for n: 144\n",
      "Predicted CTR: 0.027968 - Real CTR: 0.000962 for n: 145\n",
      "Predicted CTR: 0.017345 - Real CTR: 0.003774 for n: 146\n",
      "Predicted CTR: 0.016676 - Real CTR: 0.002710 for n: 147\n",
      "Predicted CTR: 0.009950 - Real CTR: 0.005025 for n: 148\n",
      "Predicted CTR: 0.019048 - Real CTR: 0.002985 for n: 149\n",
      "Predicted CTR: 0.018601 - Real CTR: 0.012422 for n: 150\n",
      "Predicted CTR: 0.018834 - Real CTR: 0.010949 for n: 151\n",
      "Predicted CTR: 0.018598 - Real CTR: 0.025641 for n: 152\n",
      "Predicted CTR: 0.018834 - Real CTR: 0.003650 for n: 153\n",
      "Predicted CTR: 0.018665 - Real CTR: 0.015038 for n: 154\n",
      "Predicted CTR: 0.022358 - Real CTR: 0.005682 for n: 155\n",
      "Predicted CTR: 0.018990 - Real CTR: 0.003677 for n: 156\n",
      "Predicted CTR: 0.018661 - Real CTR: 0.004345 for n: 157\n",
      "Predicted CTR: 0.018674 - Real CTR: 0.007463 for n: 158\n",
      "\n",
      "Mean Square Error: 0.000679\n",
      "\n",
      "w/ Avarage CTR prediction 0.000707\n",
      "\n"
     ]
    }
   ],
   "source": [
    "# Calculate mean square error of our model\n",
    "deTwo.test_model(dt, clf, all_words, test_length, min_impression_test, min_clicks_test, avarage_ctr)"
   ]
  },
  {
   "cell_type": "code",
   "execution_count": null,
   "metadata": {
    "collapsed": true
   },
   "outputs": [],
   "source": []
  },
  {
   "cell_type": "code",
   "execution_count": null,
   "metadata": {
    "collapsed": true
   },
   "outputs": [],
   "source": []
  }
 ],
 "metadata": {
  "kernelspec": {
   "display_name": "Python 3",
   "language": "python",
   "name": "python3"
  },
  "language_info": {
   "codemirror_mode": {
    "name": "ipython",
    "version": 3
   },
   "file_extension": ".py",
   "mimetype": "text/x-python",
   "name": "python",
   "nbconvert_exporter": "python",
   "pygments_lexer": "ipython3",
   "version": "3.4.3"
  }
 },
 "nbformat": 4,
 "nbformat_minor": 0
}
