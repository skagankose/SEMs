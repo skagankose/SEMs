{
 "cells": [
  {
   "cell_type": "code",
   "execution_count": null,
   "metadata": {
    "collapsed": false
   },
   "outputs": [],
   "source": [
    "%load_ext autoreload\n",
    "%autoreload 2"
   ]
  },
  {
   "cell_type": "code",
   "execution_count": null,
   "metadata": {
    "collapsed": false
   },
   "outputs": [],
   "source": [
    "import de\n",
    "import pandas as pd\n",
    "import numpy as np\n",
    "import gzip\n",
    "from sklearn import linear_model\n",
    "from IPython.display import display\n",
    "import warnings\n",
    "warnings.filterwarnings('ignore')"
   ]
  },
  {
   "cell_type": "code",
   "execution_count": null,
   "metadata": {
    "collapsed": true
   },
   "outputs": [],
   "source": [
    "training_length = 10000; \n",
    "test_length = 2000;"
   ]
  },
  {
   "cell_type": "code",
   "execution_count": null,
   "metadata": {
    "collapsed": false
   },
   "outputs": [],
   "source": [
    "dt = pd.read_table(gzip.open('dataSet.gz'))\n",
    "dt_keyphrases = pd.read_csv('keyphraseSet.txt')\n",
    "\n",
    "dt.columns = ['day', 'account_id', 'rank', 'keyphrase', 'avg_bid', 'impression', 'clicks']\n",
    "dt_keyphrases.columns = ['keys']\n",
    "\n",
    "dt = dt.iloc[np.random.permutation(len(dt))]"
   ]
  },
  {
   "cell_type": "code",
   "execution_count": null,
   "metadata": {
    "collapsed": false
   },
   "outputs": [],
   "source": [
    "rows = list()\n",
    "for index, row in dt.iterrows():\n",
    "    if row['clicks'] >= 1 and row['impression'] >= 1000:\n",
    "        rows.append(row)"
   ]
  },
  {
   "cell_type": "code",
   "execution_count": null,
   "metadata": {
    "collapsed": true
   },
   "outputs": [],
   "source": [
    "df = pd.DataFrame(rows)"
   ]
  },
  {
   "cell_type": "code",
   "execution_count": null,
   "metadata": {
    "collapsed": false,
    "scrolled": true
   },
   "outputs": [],
   "source": [
    "keyphrase_vectors, keyphrase_words, ctr_avarage =\\\n",
    "    de.calculate_keyphrase_vectors(df, dt_keyphrases, training_length)"
   ]
  },
  {
   "cell_type": "code",
   "execution_count": null,
   "metadata": {
    "collapsed": false,
    "scrolled": true
   },
   "outputs": [],
   "source": [
    "de.test_model(df, dt_keyphrases, keyphrase_vectors, keyphrase_words, ctr_avarage, test_length)"
   ]
  }
 ],
 "metadata": {
  "kernelspec": {
   "display_name": "Python 3",
   "language": "python",
   "name": "python3"
  },
  "language_info": {
   "codemirror_mode": {
    "name": "ipython",
    "version": 3
   },
   "file_extension": ".py",
   "mimetype": "text/x-python",
   "name": "python",
   "nbconvert_exporter": "python",
   "pygments_lexer": "ipython3",
   "version": "3.4.3"
  }
 },
 "nbformat": 4,
 "nbformat_minor": 0
}
