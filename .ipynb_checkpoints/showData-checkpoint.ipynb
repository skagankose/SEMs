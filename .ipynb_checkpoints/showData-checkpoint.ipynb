{
 "cells": [
  {
   "cell_type": "code",
   "execution_count": 2,
   "metadata": {
    "collapsed": false
   },
   "outputs": [
    {
     "name": "stdout",
     "output_type": "stream",
     "text": [
      "The autoreload extension is already loaded. To reload it, use:\n",
      "  %reload_ext autoreload\n"
     ]
    }
   ],
   "source": [
    "%load_ext autoreload\n",
    "%autoreload 2"
   ]
  },
  {
   "cell_type": "code",
   "execution_count": 3,
   "metadata": {
    "collapsed": true
   },
   "outputs": [],
   "source": [
    "import pandas as pd\n",
    "import numpy as np\n",
    "import gzip as gz\n",
    "\n",
    "from IPython.display import display"
   ]
  },
  {
   "cell_type": "code",
   "execution_count": 11,
   "metadata": {
    "collapsed": true
   },
   "outputs": [],
   "source": [
    "# Define required variables\n",
    "data_name = 'dataSet.gz'\n",
    "key_name = 'keyphraseSet.txt'"
   ]
  },
  {
   "cell_type": "code",
   "execution_count": 12,
   "metadata": {
    "collapsed": false
   },
   "outputs": [],
   "source": [
    "# Read data_name with read_table function\n",
    "dt = pd.read_table(gz.open(data_name))\n",
    "\n",
    "# Read key_name with read_table function\n",
    "dt_keys = pd.read_csv(key_name)\n",
    "\n",
    "# Rename columns as follows\n",
    "dt.columns = ['day', 'account_id', 'rank', 'keyphrase', 'avg_bid', 'impression', 'clicks']\n",
    "dt_keys.columns = ['keys']\n",
    "\n",
    "# Shuffle the datas\n",
    "dt = dt.iloc[np.random.permutation(len(dt))]"
   ]
  },
  {
   "cell_type": "code",
   "execution_count": null,
   "metadata": {
    "collapsed": true
   },
   "outputs": [],
   "source": []
  },
  {
   "cell_type": "code",
   "execution_count": 15,
   "metadata": {
    "collapsed": false
   },
   "outputs": [
    {
     "data": {
      "text/html": [
       "<div>\n",
       "<table border=\"1\" class=\"dataframe\">\n",
       "  <thead>\n",
       "    <tr style=\"text-align: right;\">\n",
       "      <th></th>\n",
       "      <th>keys</th>\n",
       "    </tr>\n",
       "  </thead>\n",
       "  <tbody>\n",
       "    <tr>\n",
       "      <th>0</th>\n",
       "      <td>1001140e40fff9fd</td>\n",
       "    </tr>\n",
       "    <tr>\n",
       "      <th>1</th>\n",
       "      <td>10024382a4ae7a07</td>\n",
       "    </tr>\n",
       "    <tr>\n",
       "      <th>2</th>\n",
       "      <td>1002d06dcd20f283</td>\n",
       "    </tr>\n",
       "    <tr>\n",
       "      <th>3</th>\n",
       "      <td>1003306ca93ebfee</td>\n",
       "    </tr>\n",
       "    <tr>\n",
       "      <th>4</th>\n",
       "      <td>1004a8c8af63bb5b</td>\n",
       "    </tr>\n",
       "    <tr>\n",
       "      <th>5</th>\n",
       "      <td>1005df05ad84f962</td>\n",
       "    </tr>\n",
       "    <tr>\n",
       "      <th>6</th>\n",
       "      <td>10068f9fe94d0f16</td>\n",
       "    </tr>\n",
       "    <tr>\n",
       "      <th>7</th>\n",
       "      <td>1006a4984b65f5e5</td>\n",
       "    </tr>\n",
       "    <tr>\n",
       "      <th>8</th>\n",
       "      <td>1006f25cb0122400</td>\n",
       "    </tr>\n",
       "    <tr>\n",
       "      <th>9</th>\n",
       "      <td>1006fe0534f616c9</td>\n",
       "    </tr>\n",
       "  </tbody>\n",
       "</table>\n",
       "</div>"
      ],
      "text/plain": [
       "               keys\n",
       "0  1001140e40fff9fd\n",
       "1  10024382a4ae7a07\n",
       "2  1002d06dcd20f283\n",
       "3  1003306ca93ebfee\n",
       "4  1004a8c8af63bb5b\n",
       "5  1005df05ad84f962\n",
       "6  10068f9fe94d0f16\n",
       "7  1006a4984b65f5e5\n",
       "8  1006f25cb0122400\n",
       "9  1006fe0534f616c9"
      ]
     },
     "metadata": {},
     "output_type": "display_data"
    }
   ],
   "source": [
    "display(dt_keys.head(10))"
   ]
  },
  {
   "cell_type": "code",
   "execution_count": 16,
   "metadata": {
    "collapsed": false
   },
   "outputs": [
    {
     "data": {
      "text/html": [
       "<div>\n",
       "<table border=\"1\" class=\"dataframe\">\n",
       "  <thead>\n",
       "    <tr style=\"text-align: right;\">\n",
       "      <th></th>\n",
       "      <th>day</th>\n",
       "      <th>account_id</th>\n",
       "      <th>rank</th>\n",
       "      <th>keyphrase</th>\n",
       "      <th>avg_bid</th>\n",
       "      <th>impression</th>\n",
       "      <th>clicks</th>\n",
       "    </tr>\n",
       "  </thead>\n",
       "  <tbody>\n",
       "    <tr>\n",
       "      <th>66725564</th>\n",
       "      <td>14</td>\n",
       "      <td>108d9712-83b2-4314-8d32-eac8f8231242</td>\n",
       "      <td>14</td>\n",
       "      <td>aef4ee042bea9c6b 5b9834ef1db9cdf7 fc4f04e28774...</td>\n",
       "      <td>2000</td>\n",
       "      <td>13</td>\n",
       "      <td>0</td>\n",
       "    </tr>\n",
       "    <tr>\n",
       "      <th>52450412</th>\n",
       "      <td>71</td>\n",
       "      <td>282ca598-2fcb-4c55-9ff4-3aaab9fbee5c</td>\n",
       "      <td>7</td>\n",
       "      <td>3db691494440189b 95718c051dae97ec</td>\n",
       "      <td>290</td>\n",
       "      <td>9</td>\n",
       "      <td>0</td>\n",
       "    </tr>\n",
       "    <tr>\n",
       "      <th>21809029</th>\n",
       "      <td>37</td>\n",
       "      <td>c62a181f-4cee-447c-9291-bd2fc20ef497</td>\n",
       "      <td>19</td>\n",
       "      <td>ac26bfe54a8a8f38 3db691494440189b</td>\n",
       "      <td>1250</td>\n",
       "      <td>12</td>\n",
       "      <td>0</td>\n",
       "    </tr>\n",
       "    <tr>\n",
       "      <th>43723942</th>\n",
       "      <td>4</td>\n",
       "      <td>1c531bae-7e65-40e8-a296-d11856344035</td>\n",
       "      <td>4</td>\n",
       "      <td>3db691494440189b 21ea03c731b47a8b</td>\n",
       "      <td>430</td>\n",
       "      <td>73</td>\n",
       "      <td>0</td>\n",
       "    </tr>\n",
       "    <tr>\n",
       "      <th>58862060</th>\n",
       "      <td>123</td>\n",
       "      <td>40fe4ff0-201d-41ff-9c19-a105e2ce2350</td>\n",
       "      <td>12</td>\n",
       "      <td>cd74a8342d25d090 f27ed5f3db705aaf a206ad70b00b...</td>\n",
       "      <td>220</td>\n",
       "      <td>1</td>\n",
       "      <td>0</td>\n",
       "    </tr>\n",
       "    <tr>\n",
       "      <th>10010079</th>\n",
       "      <td>96</td>\n",
       "      <td>bf49b318-dfbf-4226-b0f9-bd839e02106c</td>\n",
       "      <td>4</td>\n",
       "      <td>79021a2e2c836c1a cb08b94d35660439 52c1175b74c3...</td>\n",
       "      <td>2500</td>\n",
       "      <td>2</td>\n",
       "      <td>0</td>\n",
       "    </tr>\n",
       "    <tr>\n",
       "      <th>40591285</th>\n",
       "      <td>113</td>\n",
       "      <td>adfc8e8d-4161-43e1-8eb5-72e2460abb4f</td>\n",
       "      <td>5</td>\n",
       "      <td>68ec5a81e325a413 760c20648990a210 79021a2e2c83...</td>\n",
       "      <td>100</td>\n",
       "      <td>2</td>\n",
       "      <td>0</td>\n",
       "    </tr>\n",
       "    <tr>\n",
       "      <th>74265984</th>\n",
       "      <td>123</td>\n",
       "      <td>1080f156-9250-438d-be22-46f1d49827b2</td>\n",
       "      <td>5</td>\n",
       "      <td>5b9834ef1db9cdf7 79021a2e2c836c1a</td>\n",
       "      <td>390</td>\n",
       "      <td>1</td>\n",
       "      <td>0</td>\n",
       "    </tr>\n",
       "    <tr>\n",
       "      <th>3887408</th>\n",
       "      <td>67</td>\n",
       "      <td>d9d7f9cd-9674-4c8c-b312-a342e473eeb6</td>\n",
       "      <td>5</td>\n",
       "      <td>3db691494440189b 30e0a355cdf8a591 62129a60c2c6...</td>\n",
       "      <td>850</td>\n",
       "      <td>9</td>\n",
       "      <td>0</td>\n",
       "    </tr>\n",
       "    <tr>\n",
       "      <th>49072228</th>\n",
       "      <td>121</td>\n",
       "      <td>af5451d2-3e0f-4ae2-8bee-9d164c628955</td>\n",
       "      <td>3</td>\n",
       "      <td>3db691494440189b 6718c29cfa54005a</td>\n",
       "      <td>460</td>\n",
       "      <td>1</td>\n",
       "      <td>0</td>\n",
       "    </tr>\n",
       "  </tbody>\n",
       "</table>\n",
       "</div>"
      ],
      "text/plain": [
       "          day                            account_id  rank  \\\n",
       "66725564   14  108d9712-83b2-4314-8d32-eac8f8231242    14   \n",
       "52450412   71  282ca598-2fcb-4c55-9ff4-3aaab9fbee5c     7   \n",
       "21809029   37  c62a181f-4cee-447c-9291-bd2fc20ef497    19   \n",
       "43723942    4  1c531bae-7e65-40e8-a296-d11856344035     4   \n",
       "58862060  123  40fe4ff0-201d-41ff-9c19-a105e2ce2350    12   \n",
       "10010079   96  bf49b318-dfbf-4226-b0f9-bd839e02106c     4   \n",
       "40591285  113  adfc8e8d-4161-43e1-8eb5-72e2460abb4f     5   \n",
       "74265984  123  1080f156-9250-438d-be22-46f1d49827b2     5   \n",
       "3887408    67  d9d7f9cd-9674-4c8c-b312-a342e473eeb6     5   \n",
       "49072228  121  af5451d2-3e0f-4ae2-8bee-9d164c628955     3   \n",
       "\n",
       "                                                  keyphrase  avg_bid  \\\n",
       "66725564  aef4ee042bea9c6b 5b9834ef1db9cdf7 fc4f04e28774...     2000   \n",
       "52450412                  3db691494440189b 95718c051dae97ec      290   \n",
       "21809029                  ac26bfe54a8a8f38 3db691494440189b     1250   \n",
       "43723942                  3db691494440189b 21ea03c731b47a8b      430   \n",
       "58862060  cd74a8342d25d090 f27ed5f3db705aaf a206ad70b00b...      220   \n",
       "10010079  79021a2e2c836c1a cb08b94d35660439 52c1175b74c3...     2500   \n",
       "40591285  68ec5a81e325a413 760c20648990a210 79021a2e2c83...      100   \n",
       "74265984                  5b9834ef1db9cdf7 79021a2e2c836c1a      390   \n",
       "3887408   3db691494440189b 30e0a355cdf8a591 62129a60c2c6...      850   \n",
       "49072228                  3db691494440189b 6718c29cfa54005a      460   \n",
       "\n",
       "          impression  clicks  \n",
       "66725564          13       0  \n",
       "52450412           9       0  \n",
       "21809029          12       0  \n",
       "43723942          73       0  \n",
       "58862060           1       0  \n",
       "10010079           2       0  \n",
       "40591285           2       0  \n",
       "74265984           1       0  \n",
       "3887408            9       0  \n",
       "49072228           1       0  "
      ]
     },
     "metadata": {},
     "output_type": "display_data"
    }
   ],
   "source": [
    "display(dt.head(10))"
   ]
  },
  {
   "cell_type": "code",
   "execution_count": null,
   "metadata": {
    "collapsed": true
   },
   "outputs": [],
   "source": []
  }
 ],
 "metadata": {
  "kernelspec": {
   "display_name": "Python 3",
   "language": "python",
   "name": "python3"
  },
  "language_info": {
   "codemirror_mode": {
    "name": "ipython",
    "version": 3
   },
   "file_extension": ".py",
   "mimetype": "text/x-python",
   "name": "python",
   "nbconvert_exporter": "python",
   "pygments_lexer": "ipython3",
   "version": "3.4.3"
  }
 },
 "nbformat": 4,
 "nbformat_minor": 0
}
