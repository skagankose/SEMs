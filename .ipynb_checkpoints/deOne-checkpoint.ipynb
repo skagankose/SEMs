{
 "cells": [
  {
   "cell_type": "code",
   "execution_count": 102,
   "metadata": {
    "collapsed": false
   },
   "outputs": [
    {
     "name": "stdout",
     "output_type": "stream",
     "text": [
      "The autoreload extension is already loaded. To reload it, use:\n",
      "  %reload_ext autoreload\n"
     ]
    }
   ],
   "source": [
    "%load_ext autoreload\n",
    "%autoreload 2"
   ]
  },
  {
   "cell_type": "code",
   "execution_count": 103,
   "metadata": {
    "collapsed": false
   },
   "outputs": [],
   "source": [
    "import deOne\n",
    "import numpy as np\n",
    "import pandas as pd\n",
    "import gzip\n",
    "from IPython.display import display\n",
    "import random"
   ]
  },
  {
   "cell_type": "code",
   "execution_count": 110,
   "metadata": {
    "collapsed": true
   },
   "outputs": [],
   "source": [
    "# Define required variables\n",
    "data_name = 'dataset.gz'; \n",
    "traing_length = 800000; test_length = 20000;  \n",
    "min_impression = 100; min_clicks = 1; \n",
    "min_impression_test = 100; min_clicks_test = 1;"
   ]
  },
  {
   "cell_type": "code",
   "execution_count": 26,
   "metadata": {
    "collapsed": true
   },
   "outputs": [],
   "source": [
    "# Read data_name with pandas read_table function\n",
    "dt = pd.read_table(gzip.open(data_name))\n",
    "\n",
    "# Rename columns as follows\n",
    "dt.columns = ['day', 'account_id', 'rank', 'keyphrase', 'avg_bid','impression', 'clicks']\n",
    "\n",
    "# Shuffle the data table\n",
    "dt = dt.iloc[np.random.permutation(len(dt))]"
   ]
  },
  {
   "cell_type": "code",
   "execution_count": 97,
   "metadata": {
    "collapsed": false
   },
   "outputs": [],
   "source": [
    "# Calculate keyphrase CTRs for traing_length ads whos impression greater than min_impression\n",
    "# keyphrase_ratings is a dictionary containing keyphrase words and ratings of old ads\n",
    "keyphrase_ratings, avarage_ctr = deOne.calculate_keyphrase_ratings(dt, traing_length,\\\n",
    "                                                                   min_impression, min_clicks)"
   ]
  },
  {
   "cell_type": "code",
   "execution_count": null,
   "metadata": {
    "collapsed": true
   },
   "outputs": [],
   "source": []
  },
  {
   "cell_type": "code",
   "execution_count": null,
   "metadata": {
    "collapsed": true
   },
   "outputs": [],
   "source": []
  },
  {
   "cell_type": "code",
   "execution_count": 111,
   "metadata": {
    "collapsed": false
   },
   "outputs": [],
   "source": [
    "# Variable to choose random ad\n",
    "test_samples_num = 0\n",
    "\n",
    "# Set a random ad index \n",
    "random_index = random.randint(1, test_length/100.0)\n",
    "\n",
    "# Find ad at random_index\n",
    "for index, row in dt.head(test_length).iterrows():\n",
    "    \n",
    "    if row['clicks'] >= min_clicks_test and row['impression'] >= min_impression_test:\n",
    "    \n",
    "        new_keyphrase = row; test_samples_num += 1\n",
    "        \n",
    "        if test_samples_num == random_index: break\n",
    "\n",
    "# Calculate similarities dictionary for new_keyphrase\n",
    "similarities = deOne.calculate_similarities(new_keyphrase, keyphrase_ratings)"
   ]
  },
  {
   "cell_type": "code",
   "execution_count": 112,
   "metadata": {
    "collapsed": false
   },
   "outputs": [
    {
     "name": "stdout",
     "output_type": "stream",
     "text": [
      "Predicted CTR: 0.009107\n"
     ]
    }
   ],
   "source": [
    "# Predict CTR by using calculate_ctr\n",
    "predicted_ctr = deOne.calculate_ctr(similarities)\n",
    "print('Predicted CTR: %f'% predicted_ctr)"
   ]
  },
  {
   "cell_type": "code",
   "execution_count": 113,
   "metadata": {
    "collapsed": false
   },
   "outputs": [
    {
     "name": "stdout",
     "output_type": "stream",
     "text": [
      "Real CTR: 0.021277\n"
     ]
    }
   ],
   "source": [
    "# Calculate real CTR of new_keyphrase\n",
    "real_ctr = float(new_keyphrase['clicks']) / float(new_keyphrase['impression'])\n",
    "print('Real CTR: %f'% real_ctr)"
   ]
  },
  {
   "cell_type": "code",
   "execution_count": null,
   "metadata": {
    "collapsed": true
   },
   "outputs": [],
   "source": []
  },
  {
   "cell_type": "code",
   "execution_count": null,
   "metadata": {
    "collapsed": true
   },
   "outputs": [],
   "source": []
  },
  {
   "cell_type": "code",
   "execution_count": 105,
   "metadata": {
    "collapsed": false
   },
   "outputs": [
    {
     "name": "stdout",
     "output_type": "stream",
     "text": [
      "Predicted CTR: 0.016968 - Real CTR: 0.057074 for sample: 1\n",
      "Predicted CTR: 0.016968 - Real CTR: 0.014634 for sample: 2\n",
      "Predicted CTR: 0.005805 - Real CTR: 0.066207 for sample: 3\n",
      "Predicted CTR: 0.005805 - Real CTR: 0.001733 for sample: 4\n",
      "Predicted CTR: 0.007258 - Real CTR: 0.001271 for sample: 5\n",
      "Predicted CTR: 0.009107 - Real CTR: 0.004531 for sample: 6\n",
      "Predicted CTR: 0.009107 - Real CTR: 0.000304 for sample: 7\n",
      "Predicted CTR: 0.007258 - Real CTR: 0.004854 for sample: 8\n",
      "Predicted CTR: 0.005805 - Real CTR: 0.004491 for sample: 9\n",
      "Predicted CTR: 0.007258 - Real CTR: 0.006935 for sample: 10\n",
      "Predicted CTR: 0.007258 - Real CTR: 0.000038 for sample: 11\n",
      "Predicted CTR: 0.016968 - Real CTR: 0.007911 for sample: 12\n",
      "Predicted CTR: 0.007258 - Real CTR: 0.002792 for sample: 13\n",
      "Predicted CTR: 0.009085 - Real CTR: 0.003738 for sample: 14\n",
      "Predicted CTR: 0.008638 - Real CTR: 0.001565 for sample: 15\n",
      "Predicted CTR: 0.007258 - Real CTR: 0.014881 for sample: 16\n",
      "Predicted CTR: 0.007258 - Real CTR: 0.035920 for sample: 17\n",
      "Predicted CTR: 0.016968 - Real CTR: 0.003177 for sample: 18\n",
      "Predicted CTR: 0.016968 - Real CTR: 0.003322 for sample: 19\n",
      "Predicted CTR: 0.016968 - Real CTR: 0.003466 for sample: 20\n",
      "Predicted CTR: 0.016968 - Real CTR: 0.001198 for sample: 21\n",
      "Predicted CTR: 0.017420 - Real CTR: 0.005025 for sample: 22\n",
      "Predicted CTR: 0.019617 - Real CTR: 0.006250 for sample: 23\n",
      "Predicted CTR: 0.009140 - Real CTR: 0.005259 for sample: 24\n",
      "Predicted CTR: 0.007258 - Real CTR: 0.001885 for sample: 25\n",
      "Predicted CTR: 0.017420 - Real CTR: 0.004717 for sample: 26\n",
      "Predicted CTR: 0.007258 - Real CTR: 0.003417 for sample: 27\n",
      "Predicted CTR: 0.007258 - Real CTR: 0.007442 for sample: 28\n",
      "Predicted CTR: 0.016769 - Real CTR: 0.007576 for sample: 29\n",
      "Predicted CTR: 0.011310 - Real CTR: 0.004591 for sample: 30\n",
      "Predicted CTR: 0.016968 - Real CTR: 0.016711 for sample: 31\n",
      "Predicted CTR: 0.015105 - Real CTR: 0.015564 for sample: 32\n",
      "Predicted CTR: 0.008638 - Real CTR: 0.009101 for sample: 33\n",
      "Predicted CTR: 0.007258 - Real CTR: 0.000511 for sample: 34\n",
      "Predicted CTR: 0.007258 - Real CTR: 0.000448 for sample: 35\n",
      "Predicted CTR: 0.009107 - Real CTR: 0.006341 for sample: 36\n",
      "Predicted CTR: 0.009107 - Real CTR: 0.005826 for sample: 37\n",
      "Predicted CTR: 0.016968 - Real CTR: 0.000865 for sample: 38\n",
      "Predicted CTR: 0.017420 - Real CTR: 0.006863 for sample: 39\n",
      "Predicted CTR: 0.009107 - Real CTR: 0.017737 for sample: 40\n",
      "Predicted CTR: 0.009107 - Real CTR: 0.003098 for sample: 41\n",
      "Predicted CTR: 0.007246 - Real CTR: 0.001222 for sample: 42\n",
      "Predicted CTR: 0.017420 - Real CTR: 0.013826 for sample: 43\n",
      "Predicted CTR: 0.009107 - Real CTR: 0.000978 for sample: 44\n",
      "Predicted CTR: 0.005805 - Real CTR: 0.000920 for sample: 45\n",
      "Predicted CTR: 0.007258 - Real CTR: 0.001155 for sample: 46\n",
      "Predicted CTR: 0.005805 - Real CTR: 0.004723 for sample: 47\n",
      "Predicted CTR: 0.016968 - Real CTR: 0.003984 for sample: 48\n",
      "Predicted CTR: 0.008473 - Real CTR: 0.000781 for sample: 49\n",
      "Predicted CTR: 0.017420 - Real CTR: 0.007979 for sample: 50\n",
      "Predicted CTR: 0.017420 - Real CTR: 0.006901 for sample: 51\n",
      "Predicted CTR: 0.016968 - Real CTR: 0.006045 for sample: 52\n",
      "Predicted CTR: 0.007258 - Real CTR: 0.006274 for sample: 53\n",
      "Predicted CTR: 0.009107 - Real CTR: 0.002595 for sample: 54\n",
      "Predicted CTR: 0.009107 - Real CTR: 0.018923 for sample: 55\n",
      "Predicted CTR: 0.007258 - Real CTR: 0.000948 for sample: 56\n",
      "Predicted CTR: 0.007258 - Real CTR: 0.008858 for sample: 57\n",
      "Predicted CTR: 0.009107 - Real CTR: 0.000246 for sample: 58\n",
      "Predicted CTR: 0.016968 - Real CTR: 0.002653 for sample: 59\n",
      "Predicted CTR: 0.009107 - Real CTR: 0.008706 for sample: 60\n",
      "Predicted CTR: 0.007258 - Real CTR: 0.049336 for sample: 61\n",
      "Predicted CTR: 0.007258 - Real CTR: 0.001273 for sample: 62\n",
      "Predicted CTR: 0.016968 - Real CTR: 0.005003 for sample: 63\n",
      "Predicted CTR: 0.016968 - Real CTR: 0.005580 for sample: 64\n",
      "Predicted CTR: 0.009140 - Real CTR: 0.005529 for sample: 65\n",
      "Predicted CTR: 0.016968 - Real CTR: 0.001756 for sample: 66\n",
      "Predicted CTR: 0.007258 - Real CTR: 0.000538 for sample: 67\n",
      "Predicted CTR: 0.007258 - Real CTR: 0.006684 for sample: 68\n",
      "Predicted CTR: 0.009107 - Real CTR: 0.004459 for sample: 69\n",
      "Predicted CTR: 0.007258 - Real CTR: 0.011588 for sample: 70\n",
      "Predicted CTR: 0.009107 - Real CTR: 0.007724 for sample: 71\n",
      "Predicted CTR: 0.008473 - Real CTR: 0.010019 for sample: 72\n",
      "Predicted CTR: 0.009085 - Real CTR: 0.006744 for sample: 73\n",
      "Predicted CTR: 0.007258 - Real CTR: 0.000533 for sample: 74\n",
      "Predicted CTR: 0.008638 - Real CTR: 0.046053 for sample: 75\n",
      "Predicted CTR: 0.009107 - Real CTR: 0.001062 for sample: 76\n",
      "Predicted CTR: 0.009085 - Real CTR: 0.004822 for sample: 77\n",
      "Predicted CTR: 0.016968 - Real CTR: 0.001972 for sample: 78\n",
      "Predicted CTR: 0.017420 - Real CTR: 0.006757 for sample: 79\n",
      "Predicted CTR: 0.009107 - Real CTR: 0.006114 for sample: 80\n",
      "Predicted CTR: 0.007258 - Real CTR: 0.009178 for sample: 81\n",
      "Predicted CTR: 0.005805 - Real CTR: 0.000589 for sample: 82\n",
      "Predicted CTR: 0.016988 - Real CTR: 0.069486 for sample: 83\n",
      "Predicted CTR: 0.016968 - Real CTR: 0.002340 for sample: 84\n",
      "Predicted CTR: 0.009107 - Real CTR: 0.007229 for sample: 85\n",
      "Predicted CTR: 0.015105 - Real CTR: 0.007129 for sample: 86\n",
      "Predicted CTR: 0.007258 - Real CTR: 0.001798 for sample: 87\n",
      "Predicted CTR: 0.009085 - Real CTR: 0.001140 for sample: 88\n",
      "Predicted CTR: 0.009107 - Real CTR: 0.000462 for sample: 89\n",
      "Predicted CTR: 0.009085 - Real CTR: 0.006926 for sample: 90\n",
      "Predicted CTR: 0.009085 - Real CTR: 0.000805 for sample: 91\n",
      "Predicted CTR: 0.005805 - Real CTR: 0.001910 for sample: 92\n",
      "Predicted CTR: 0.017420 - Real CTR: 0.112197 for sample: 93\n",
      "Predicted CTR: 0.016769 - Real CTR: 0.032626 for sample: 94\n",
      "Predicted CTR: 0.005805 - Real CTR: 0.006070 for sample: 95\n",
      "Predicted CTR: 0.009127 - Real CTR: 0.005613 for sample: 96\n",
      "Predicted CTR: 0.009107 - Real CTR: 0.001811 for sample: 97\n",
      "Predicted CTR: 0.016968 - Real CTR: 0.071085 for sample: 98\n",
      "Predicted CTR: 0.008473 - Real CTR: 0.000974 for sample: 99\n",
      "Predicted CTR: 0.009107 - Real CTR: 0.004035 for sample: 100\n",
      "Predicted CTR: 0.009107 - Real CTR: 0.004808 for sample: 101\n",
      "Predicted CTR: 0.005805 - Real CTR: 0.015182 for sample: 102\n",
      "Predicted CTR: 0.007258 - Real CTR: 0.003597 for sample: 103\n",
      "Predicted CTR: 0.016968 - Real CTR: 0.187650 for sample: 104\n",
      "Predicted CTR: 0.008473 - Real CTR: 0.000691 for sample: 105\n",
      "Predicted CTR: 0.016968 - Real CTR: 0.005420 for sample: 106\n",
      "Predicted CTR: 0.007258 - Real CTR: 0.000739 for sample: 107\n",
      "Predicted CTR: 0.009085 - Real CTR: 0.008364 for sample: 108\n",
      "Predicted CTR: 0.009107 - Real CTR: 0.003743 for sample: 109\n",
      "Predicted CTR: 0.009107 - Real CTR: 0.001313 for sample: 110\n",
      "Predicted CTR: 0.007358 - Real CTR: 0.002201 for sample: 111\n",
      "Predicted CTR: 0.016968 - Real CTR: 0.009430 for sample: 112\n",
      "Predicted CTR: 0.009107 - Real CTR: 0.005945 for sample: 113\n",
      "Predicted CTR: 0.007258 - Real CTR: 0.000510 for sample: 114\n",
      "Predicted CTR: 0.009107 - Real CTR: 0.006699 for sample: 115\n",
      "Predicted CTR: 0.007258 - Real CTR: 0.002889 for sample: 116\n",
      "Predicted CTR: 0.009085 - Real CTR: 0.010806 for sample: 117\n",
      "Predicted CTR: 0.007258 - Real CTR: 0.008290 for sample: 118\n",
      "Predicted CTR: 0.007258 - Real CTR: 0.001146 for sample: 119\n",
      "Predicted CTR: 0.007258 - Real CTR: 0.002170 for sample: 120\n",
      "Predicted CTR: 0.017420 - Real CTR: 0.006783 for sample: 121\n",
      "Predicted CTR: 0.009107 - Real CTR: 0.001407 for sample: 122\n",
      "Predicted CTR: 0.007258 - Real CTR: 0.000449 for sample: 123\n",
      "Predicted CTR: 0.005805 - Real CTR: 0.010479 for sample: 124\n",
      "Predicted CTR: 0.009107 - Real CTR: 0.001099 for sample: 125\n",
      "Predicted CTR: 0.008638 - Real CTR: 0.005623 for sample: 126\n",
      "Predicted CTR: 0.016968 - Real CTR: 0.011217 for sample: 127\n",
      "Predicted CTR: 0.007258 - Real CTR: 0.004822 for sample: 128\n",
      "Predicted CTR: 0.009107 - Real CTR: 0.007692 for sample: 129\n",
      "Predicted CTR: 0.016968 - Real CTR: 0.006335 for sample: 130\n",
      "Predicted CTR: 0.009107 - Real CTR: 0.003551 for sample: 131\n",
      "Predicted CTR: 0.016968 - Real CTR: 0.004338 for sample: 132\n",
      "Predicted CTR: 0.009107 - Real CTR: 0.016422 for sample: 133\n",
      "Predicted CTR: 0.009107 - Real CTR: 0.038573 for sample: 134\n",
      "Predicted CTR: 0.007258 - Real CTR: 0.000563 for sample: 135\n",
      "\n",
      "Mean Square Error: 0.000453\n",
      "\n",
      "w/ Avarage CTR prediction 0.000480\n",
      "\n"
     ]
    }
   ],
   "source": [
    "# Calculate mean square error of our model\n",
    "deOne.test_model(dt, test_length, min_impression_test, min_clicks_test, keyphrase_ratings, avarage_ctr)"
   ]
  },
  {
   "cell_type": "code",
   "execution_count": null,
   "metadata": {
    "collapsed": true
   },
   "outputs": [],
   "source": []
  },
  {
   "cell_type": "code",
   "execution_count": null,
   "metadata": {
    "collapsed": true
   },
   "outputs": [],
   "source": []
  }
 ],
 "metadata": {
  "kernelspec": {
   "display_name": "Python 3",
   "language": "python",
   "name": "python3"
  },
  "language_info": {
   "codemirror_mode": {
    "name": "ipython",
    "version": 3
   },
   "file_extension": ".py",
   "mimetype": "text/x-python",
   "name": "python",
   "nbconvert_exporter": "python",
   "pygments_lexer": "ipython3",
   "version": "3.4.3"
  }
 },
 "nbformat": 4,
 "nbformat_minor": 0
}
